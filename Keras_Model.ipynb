{
 "cells": [
  {
   "cell_type": "code",
   "execution_count": 1,
   "metadata": {
    "scrolled": true
   },
   "outputs": [],
   "source": [
    "from __future__ import print_function\n",
    "import os\n",
    "import sys\n",
    "import glob\n",
    "import time\n",
    "import fnmatch\n",
    "import argparse\n",
    "import numpy as np\n",
    "from PIL import Image\n",
    "from tensorflow import keras\n",
    "import conf\n",
    "import random\n",
    "import augment\n",
    "import models\n",
    "import json\n",
    "import matplotlib.pyplot as plt\n",
    "%matplotlib inline\n",
    "from tensorflow.keras.utils import plot_model"
   ]
  },
  {
   "cell_type": "code",
   "execution_count": 7,
   "metadata": {},
   "outputs": [],
   "source": [
    "from train import *\n",
    "from __future__ import print_function\n",
    "from tensorflow.keras.models import Model\n",
    "from tensorflow.keras.layers import Conv2D, MaxPool2D, Input\n",
    "from tensorflow.keras.layers import Dense, Lambda, ELU\n",
    "from tensorflow.keras.layers import Activation, Dropout, Flatten, Dense\n",
    "from tensorflow.keras.layers import Cropping2D\n",
    "from tensorflow.keras.optimizers import Adadelta\n",
    "\n",
    "# Add this to get plot_model working\n",
    "import os\n",
    "os.environ[\"PATH\"] += os.pathsep + 'C:/Program Files (x86)/Graphviz2.38/bin/'"
   ]
  },
  {
   "cell_type": "code",
   "execution_count": 107,
   "metadata": {},
   "outputs": [
    {
     "name": "stdout",
     "output_type": "stream",
     "text": [
      "_________________________________________________________________\n",
      "Layer (type)                 Output Shape              Param #   \n",
      "=================================================================\n",
      "img_in (InputLayer)          (None, 120, 160, 3)       0         \n",
      "_________________________________________________________________\n",
      "cropping2d_16 (Cropping2D)   (None, 110, 160, 3)       0         \n",
      "_________________________________________________________________\n",
      "lambda_16 (Lambda)           (None, 110, 160, 3)       0         \n",
      "_________________________________________________________________\n",
      "conv2d_1 (Conv2D)            (None, 53, 78, 24)        1824      \n",
      "_________________________________________________________________\n",
      "dropout_98 (Dropout)         (None, 53, 78, 24)        0         \n",
      "_________________________________________________________________\n",
      "conv2d_2 (Conv2D)            (None, 25, 37, 32)        19232     \n",
      "_________________________________________________________________\n",
      "dropout_99 (Dropout)         (None, 25, 37, 32)        0         \n",
      "_________________________________________________________________\n",
      "conv2d_3 (Conv2D)            (None, 11, 17, 64)        51264     \n",
      "_________________________________________________________________\n",
      "dropout_100 (Dropout)        (None, 11, 17, 64)        0         \n",
      "_________________________________________________________________\n",
      "conv2d_4 (Conv2D)            (None, 9, 15, 64)         36928     \n",
      "_________________________________________________________________\n",
      "pool_1 (MaxPooling2D)        (None, 4, 7, 64)          0         \n",
      "_________________________________________________________________\n",
      "conv2d_5 (Conv2D)            (None, 2, 5, 64)          36928     \n",
      "_________________________________________________________________\n",
      "dropout_101 (Dropout)        (None, 2, 5, 64)          0         \n",
      "_________________________________________________________________\n",
      "flattened (Flatten)          (None, 640)               0         \n",
      "_________________________________________________________________\n",
      "dense_32 (Dense)             (None, 100)               64100     \n",
      "_________________________________________________________________\n",
      "dropout_102 (Dropout)        (None, 100)               0         \n",
      "_________________________________________________________________\n",
      "dense_33 (Dense)             (None, 50)                5050      \n",
      "_________________________________________________________________\n",
      "dropout_103 (Dropout)        (None, 50)                0         \n",
      "_________________________________________________________________\n",
      "steering_throttle (Dense)    (None, 2)                 102       \n",
      "=================================================================\n",
      "Total params: 215,428\n",
      "Trainable params: 215,428\n",
      "Non-trainable params: 0\n",
      "_________________________________________________________________\n",
      "(None, 120, 160, 3)\n",
      "(None, 110, 160, 3)\n",
      "(None, 110, 160, 3)\n",
      "(None, 53, 78, 24)\n",
      "(None, 53, 78, 24)\n",
      "(None, 25, 37, 32)\n",
      "(None, 25, 37, 32)\n",
      "(None, 11, 17, 64)\n",
      "(None, 11, 17, 64)\n",
      "(None, 9, 15, 64)\n",
      "(None, 4, 7, 64)\n",
      "(None, 2, 5, 64)\n",
      "(None, 2, 5, 64)\n",
      "(None, 640)\n",
      "(None, 100)\n",
      "(None, 100)\n",
      "(None, 50)\n",
      "(None, 50)\n",
      "(None, 2)\n"
     ]
    }
   ],
   "source": [
    "'''\n",
    "Donkey_gym and all associated packages are created by: Tawn Kramer\n",
    "'''\n",
    "\n",
    "model_name='models\\20190329_run_15_PID'\n",
    "inputs='./log/*.jpg'\n",
    "\n",
    "'''\n",
    "modify config.json to select the model to train.\n",
    "'''\n",
    "model = models.get_nvidia_model(conf.num_outputs)\n",
    "\n",
    "'''\n",
    "display layer summary and weights info\n",
    "'''\n",
    "#Show current model summary\n",
    "models.show_model_summary(model)"
   ]
  },
  {
   "cell_type": "code",
   "execution_count": 102,
   "metadata": {},
   "outputs": [],
   "source": [
    "\n",
    "callbacks = [\n",
    "# set the model to stop early if results are not improving automatically\n",
    "        keras.callbacks.EarlyStopping(monitor='val_loss', \n",
    "                                      patience=conf.training_patience, \n",
    "                                      verbose=0),\n",
    "# set what to save from the model as it moves through the evaluation\n",
    "        keras.callbacks.ModelCheckpoint(model_name, \n",
    "                                        monitor='val_loss', \n",
    "                                        save_best_only=True, verbose=0),]"
   ]
  },
  {
   "cell_type": "code",
   "execution_count": 103,
   "metadata": {},
   "outputs": [
    {
     "name": "stdout",
     "output_type": "stream",
     "text": [
      "found 10014 files\n",
      "num train/val 8005 2009\n"
     ]
    }
   ],
   "source": [
    "# Train on session images,\n",
    "#  make_generators comes from Train.py, return train and validation values.\n",
    "train_generator, validation_generator, n_train, n_val = make_generators(inputs, \n",
    "                                                                        limit=None, \n",
    "                                                                        batch_size=batch_size, \n",
    "                                                                        aug_perc=0.0)\n",
    "\n",
    "if n_train == 0:\n",
    "    print('no training data found')"
   ]
  },
  {
   "cell_type": "code",
   "execution_count": 104,
   "metadata": {},
   "outputs": [
    {
     "name": "stdout",
     "output_type": "stream",
     "text": [
      "steps_per_epoch 62 validation_steps 15\n"
     ]
    }
   ],
   "source": [
    "# Creates batch size and steps for epochs and validation\n",
    "batch_size = conf.training_batch_size  # =128\n",
    "steps_per_epoch = n_train // batch_size\n",
    "validation_steps = n_val // batch_size\n",
    "\n",
    "print(\"steps_per_epoch\", steps_per_epoch, \"validation_steps\", validation_steps)"
   ]
  },
  {
   "cell_type": "code",
   "execution_count": 94,
   "metadata": {},
   "outputs": [],
   "source": [
    "# %load models.py\n",
    "# modifies layout of the model\n",
    "\n",
    "def show_model_summary(model):\n",
    "    model.summary()\n",
    "    for layer in model.layers:\n",
    "        print(layer.output_shape)\n",
    "\n",
    "def get_nvidia_model(num_outputs):\n",
    "    '''\n",
    "    this model is inspired by the NVIDIA paper\n",
    "    https://images.nvidia.com/content/tegra/automotive/images/2016/solutions/pdf/end-to-end-dl-using-px.pdf\n",
    "    Activation is ELU\n",
    "    '''\n",
    "    row, col, ch = conf.row, conf.col, conf.ch\n",
    "    \n",
    "    drop = 0.2\n",
    "    \n",
    "    img_in = Input(shape=(row, col, ch), name='img_in')\n",
    "    x = img_in\n",
    "    x = Cropping2D(cropping=((10,0), (0,0)))(x) #trim 10 pixels off top\n",
    "    x = Lambda(lambda x: x/127.5 - 1.)(x) # normalize and re-center\n",
    "    # Convolution Layer with 24 filters and a kernel size of 5\n",
    "    x = Conv2D(24, (5,5), strides=(2,2), activation='relu', name=\"conv2d_1\")(x)\n",
    "    # Dropout layer, drops 20% of neurons for next layer\n",
    "    x = Dropout(drop)(x)\n",
    "    # Convolution Layer with 32 filters and kernel size of 5\n",
    "    x = Conv2D(32, (5,5), strides=(2,2), activation='relu', name=\"conv2d_2\")(x)\n",
    "    # Dropout layer, drops 20% of neurons for next layer\n",
    "    x = Dropout(drop)(x)\n",
    "    # Convolution Layer with 64 filters and kernel size of 5\n",
    "    x = Conv2D(64, (5,5), strides=(2,2), activation='relu', name=\"conv2d_3\")(x) \n",
    "    # Dropout layer, drops 20% of neurons for next layer\n",
    "    x = Dropout(drop)(x)\n",
    "    # Convolution Layer with 64 filters and kernel size of3\n",
    "    x = Conv2D(64, (3,3), strides=(1,1), activation='relu', name=\"conv2d_4\")(x)\n",
    "    # Max Pooling (down-sampling) with strides of 2\n",
    "    x = MaxPool2D(pool_size=2, strides=2, name='pool_1')(x) #Dropout(drop)(x)\n",
    "    # Convolution Layer with 64 filters and kernel size of 3\n",
    "    x = Conv2D(64, (3,3), strides=(1,1), activation='relu', name=\"conv2d_5\")(x)\n",
    "    # Dropout layer, drops 20% of neurons for next layer\n",
    "    x = Dropout(drop)(x)\n",
    "    \n",
    "    x = Flatten(name='flattened')(x)\n",
    "    x = Dense(100, activation='relu')(x)\n",
    "    x = Dropout(drop)(x)\n",
    "    x = Dense(50, activation='relu')(x)\n",
    "    x = Dropout(drop)(x)\n",
    "\n",
    "    outputs = []\n",
    "    outputs.append(Dense(num_outputs, activation='linear', name='steering_throttle')(x))\n",
    "    \n",
    "        \n",
    "    model = Model(inputs=[img_in], outputs=outputs) \n",
    "    model.compile(optimizer=\"adam\", loss=\"mse\", metrics=['accuracy'])\n",
    "    return model\n"
   ]
  },
  {
   "cell_type": "code",
   "execution_count": 105,
   "metadata": {},
   "outputs": [],
   "source": [
    "# conf.num_outputs=2 for Steering and Throttle training\n",
    "model = get_nvidia_model(conf.num_outputs)"
   ]
  },
  {
   "cell_type": "code",
   "execution_count": 109,
   "metadata": {},
   "outputs": [
    {
     "data": {
      "image/png": "[encoded data removed]",
      "text/plain": [
       "<Figure size 432x288 with 1 Axes>"
      ]
     },
     "metadata": {},
     "output_type": "display_data"
    },
    {
     "data": {
      "text/plain": [
       "<Figure size 7200x8640 with 0 Axes>"
      ]
     },
     "execution_count": 109,
     "metadata": {},
     "output_type": "execute_result"
    },
    {
     "data": {
      "text/plain": [
       "<Figure size 7200x8640 with 0 Axes>"
      ]
     },
     "metadata": {},
     "output_type": "display_data"
    }
   ],
   "source": [
    "# create models as png file\n",
    "plot_model(model, to_file=model_name+'.png')\n",
    "data = plt.imread(model_name+'.png')\n",
    "plt.imshow(data)\n",
    "plt.show()\n",
    "plt.figure(figsize=(100,120))"
   ]
  },
  {
   "cell_type": "code",
   "execution_count": 97,
   "metadata": {},
   "outputs": [
    {
     "name": "stdout",
     "output_type": "stream",
     "text": [
      "_________________________________________________________________\n",
      "Layer (type)                 Output Shape              Param #   \n",
      "=================================================================\n",
      "img_in (InputLayer)          (None, 120, 160, 3)       0         \n",
      "_________________________________________________________________\n",
      "cropping2d_13 (Cropping2D)   (None, 110, 160, 3)       0         \n",
      "_________________________________________________________________\n",
      "lambda_13 (Lambda)           (None, 110, 160, 3)       0         \n",
      "_________________________________________________________________\n",
      "conv2d_1 (Conv2D)            (None, 53, 78, 24)        1824      \n",
      "_________________________________________________________________\n",
      "dropout_78 (Dropout)         (None, 53, 78, 24)        0         \n",
      "_________________________________________________________________\n",
      "conv2d_2 (Conv2D)            (None, 25, 37, 32)        19232     \n",
      "_________________________________________________________________\n",
      "dropout_79 (Dropout)         (None, 25, 37, 32)        0         \n",
      "_________________________________________________________________\n",
      "conv2d_3 (Conv2D)            (None, 11, 17, 64)        51264     \n",
      "_________________________________________________________________\n",
      "dropout_80 (Dropout)         (None, 11, 17, 64)        0         \n",
      "_________________________________________________________________\n",
      "conv2d_4 (Conv2D)            (None, 9, 15, 64)         36928     \n",
      "_________________________________________________________________\n",
      "dropout_81 (Dropout)         (None, 9, 15, 64)         0         \n",
      "_________________________________________________________________\n",
      "conv2d_5 (Conv2D)            (None, 7, 13, 64)         36928     \n",
      "_________________________________________________________________\n",
      "dropout_82 (Dropout)         (None, 7, 13, 64)         0         \n",
      "_________________________________________________________________\n",
      "flattened (Flatten)          (None, 5824)              0         \n",
      "_________________________________________________________________\n",
      "dense_26 (Dense)             (None, 100)               582500    \n",
      "_________________________________________________________________\n",
      "dropout_83 (Dropout)         (None, 100)               0         \n",
      "_________________________________________________________________\n",
      "dense_27 (Dense)             (None, 50)                5050      \n",
      "_________________________________________________________________\n",
      "dropout_84 (Dropout)         (None, 50)                0         \n",
      "_________________________________________________________________\n",
      "steering_throttle (Dense)    (None, 2)                 102       \n",
      "=================================================================\n",
      "Total params: 733,828\n",
      "Trainable params: 733,828\n",
      "Non-trainable params: 0\n",
      "_________________________________________________________________\n",
      "(None, 120, 160, 3)\n",
      "(None, 110, 160, 3)\n",
      "(None, 110, 160, 3)\n",
      "(None, 53, 78, 24)\n",
      "(None, 53, 78, 24)\n",
      "(None, 25, 37, 32)\n",
      "(None, 25, 37, 32)\n",
      "(None, 11, 17, 64)\n",
      "(None, 11, 17, 64)\n",
      "(None, 9, 15, 64)\n",
      "(None, 9, 15, 64)\n",
      "(None, 7, 13, 64)\n",
      "(None, 7, 13, 64)\n",
      "(None, 5824)\n",
      "(None, 100)\n",
      "(None, 100)\n",
      "(None, 50)\n",
      "(None, 50)\n",
      "(None, 2)\n"
     ]
    }
   ],
   "source": [
    "# Select Number of Epochs to train over\n",
    "epochs = 50\n",
    "models.show_model_summary(model)"
   ]
  },
  {
   "cell_type": "code",
   "execution_count": 98,
   "metadata": {},
   "outputs": [
    {
     "name": "stdout",
     "output_type": "stream",
     "text": [
      "Epoch 1/50\n",
      "62/62 [==============================] - 446s 7s/step - loss: 1.1681 - acc: 0.6083 - val_loss: 1.0204 - val_acc: 0.6044\n",
      "Epoch 2/50\n",
      "62/62 [==============================] - 433s 7s/step - loss: 1.0343 - acc: 0.6037 - val_loss: 1.0103 - val_acc: 0.6081\n",
      "Epoch 3/50\n",
      "62/62 [==============================] - 427s 7s/step - loss: 1.0126 - acc: 0.6113 - val_loss: 1.0532 - val_acc: 0.6155\n",
      "Epoch 4/50\n",
      "62/62 [==============================] - 424s 7s/step - loss: 1.0040 - acc: 0.6066 - val_loss: 0.9978 - val_acc: 0.6076\n",
      "Epoch 5/50\n",
      "62/62 [==============================] - 426s 7s/step - loss: 0.9974 - acc: 0.6108 - val_loss: 0.9783 - val_acc: 0.6161\n",
      "Epoch 6/50\n",
      "62/62 [==============================] - 436s 7s/step - loss: 0.9907 - acc: 0.6065 - val_loss: 1.0113 - val_acc: 0.6219\n",
      "Epoch 7/50\n",
      "62/62 [==============================] - 437s 7s/step - loss: 0.9804 - acc: 0.6083 - val_loss: 0.9855 - val_acc: 0.6161\n",
      "Epoch 8/50\n",
      "62/62 [==============================] - 435s 7s/step - loss: 0.9781 - acc: 0.6083 - val_loss: 0.9710 - val_acc: 0.6108\n",
      "Epoch 9/50\n",
      "62/62 [==============================] - 427s 7s/step - loss: 0.9677 - acc: 0.6028 - val_loss: 0.9676 - val_acc: 0.6120\n",
      "Epoch 10/50\n",
      "62/62 [==============================] - 430s 7s/step - loss: 0.9624 - acc: 0.6015 - val_loss: 0.9546 - val_acc: 0.5965\n",
      "Epoch 11/50\n",
      "62/62 [==============================] - 450s 7s/step - loss: 0.9793 - acc: 0.6115 - val_loss: 0.9662 - val_acc: 0.6140\n",
      "Epoch 12/50\n",
      "62/62 [==============================] - 576s 9s/step - loss: 0.9497 - acc: 0.6045 - val_loss: 0.9689 - val_acc: 0.6055\n",
      "Epoch 13/50\n",
      "62/62 [==============================] - 416s 7s/step - loss: 0.9704 - acc: 0.6034 - val_loss: 0.9826 - val_acc: 0.6129\n",
      "Epoch 14/50\n",
      "62/62 [==============================] - 419s 7s/step - loss: 0.9557 - acc: 0.6043 - val_loss: 0.9705 - val_acc: 0.6145\n",
      "Epoch 15/50\n",
      "62/62 [==============================] - 418s 7s/step - loss: 0.9648 - acc: 0.6093 - val_loss: 0.9406 - val_acc: 0.6050\n",
      "Epoch 16/50\n",
      "62/62 [==============================] - 429s 7s/step - loss: 0.9597 - acc: 0.6077 - val_loss: 0.9695 - val_acc: 0.6129\n",
      "Epoch 17/50\n",
      "62/62 [==============================] - 417s 7s/step - loss: 0.9550 - acc: 0.6033 - val_loss: 0.9515 - val_acc: 0.6050\n",
      "Epoch 18/50\n",
      "62/62 [==============================] - 438s 7s/step - loss: 0.9603 - acc: 0.6125 - val_loss: 0.9716 - val_acc: 0.6145\n",
      "Epoch 19/50\n",
      "62/62 [==============================] - 485s 8s/step - loss: 0.9467 - acc: 0.5993 - val_loss: 0.9629 - val_acc: 0.6134\n",
      "Epoch 20/50\n",
      "62/62 [==============================] - 450s 7s/step - loss: 0.9499 - acc: 0.6087 - val_loss: 0.9736 - val_acc: 0.6118\n",
      "Epoch 21/50\n",
      "62/62 [==============================] - 422s 7s/step - loss: 0.9451 - acc: 0.6033 - val_loss: 0.9470 - val_acc: 0.6118\n",
      "Wall time: 2h 34min 3s\n"
     ]
    }
   ],
   "source": [
    "%%time\n",
    "# run model\n",
    "history = model.fit_generator(train_generator, \n",
    "    steps_per_epoch = steps_per_epoch,\n",
    "    validation_data = validation_generator,\n",
    "    validation_steps = validation_steps,\n",
    "    epochs=epochs,\n",
    "    verbose=1,\n",
    "    callbacks=callbacks)"
   ]
  },
  {
   "cell_type": "code",
   "execution_count": 99,
   "metadata": {},
   "outputs": [
    {
     "name": "stdout",
     "output_type": "stream",
     "text": [
      "dict_keys(['val_loss', 'val_acc', 'loss', 'acc'])\n"
     ]
    }
   ],
   "source": [
    "print(history.history.keys())"
   ]
  },
  {
   "cell_type": "code",
   "execution_count": 100,
   "metadata": {},
   "outputs": [
    {
     "data": {
      "image/png": "[encoded data removed]",
      "text/plain": [
       "<Figure size 432x288 with 1 Axes>"
      ]
     },
     "metadata": {},
     "output_type": "display_data"
    },
    {
     "data": {
      "image/png": "[encoded data removed]",
      "text/plain": [
       "<Figure size 432x288 with 1 Axes>"
      ]
     },
     "metadata": {},
     "output_type": "display_data"
    }
   ],
   "source": [
    "# Plot train and test loss\n",
    "plt.plot(history.history['loss'])\n",
    "plt.plot(history.history['val_loss'])\n",
    "plt.title('model loss')\n",
    "plt.ylabel('loss')\n",
    "plt.xlabel('epoch')\n",
    "plt.legend(['train', 'test'], loc='upper left')\n",
    "plt.savefig(model_name + '_loss.png')\n",
    "plt.show()\n",
    "\n",
    "# summarize history for accuracy\n",
    "plt.plot(history.history['acc'])\n",
    "plt.plot(history.history['val_acc'])\n",
    "plt.title('model accuracy')\n",
    "plt.ylabel('accuracy')\n",
    "plt.xlabel('epoch')\n",
    "plt.legend(['train', 'validation'], loc='upper left')\n",
    "plt.savefig(model_name + '_accuracy.png')\n",
    "plt.show()"
   ]
  },
  {
   "cell_type": "code",
   "execution_count": null,
   "metadata": {},
   "outputs": [],
   "source": []
  },
  {
   "cell_type": "code",
   "execution_count": null,
   "metadata": {},
   "outputs": [],
   "source": []
  }
 ],
 "metadata": {
  "kernelspec": {
   "display_name": "Python 3",
   "language": "python",
   "name": "python3"
  },
  "language_info": {
   "codemirror_mode": {
    "name": "ipython",
    "version": 3
   },
   "file_extension": ".py",
   "mimetype": "text/x-python",
   "name": "python",
   "nbconvert_exporter": "python",
   "pygments_lexer": "ipython3",
   "version": "3.6.5"
  }
 },
 "nbformat": 4,
 "nbformat_minor": 2
}
